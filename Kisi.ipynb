{
 "cells": [
  {
   "cell_type": "code",
   "execution_count": 31,
   "id": "7a921cd2",
   "metadata": {},
   "outputs": [
    {
     "name": "stdout",
     "output_type": "stream",
     "text": [
      "Requirement already satisfied: selenium in /Users/abassadamo/opt/anaconda3/lib/python3.8/site-packages (4.5.0)\n",
      "Requirement already satisfied: trio~=0.17 in /Users/abassadamo/opt/anaconda3/lib/python3.8/site-packages (from selenium) (0.22.0)\n",
      "Requirement already satisfied: urllib3[socks]~=1.26 in /Users/abassadamo/opt/anaconda3/lib/python3.8/site-packages (from selenium) (1.26.4)\n",
      "Requirement already satisfied: certifi>=2021.10.8 in /Users/abassadamo/opt/anaconda3/lib/python3.8/site-packages (from selenium) (2022.9.24)\n",
      "Requirement already satisfied: trio-websocket~=0.9 in /Users/abassadamo/opt/anaconda3/lib/python3.8/site-packages (from selenium) (0.9.2)\n",
      "Requirement already satisfied: async-generator>=1.9 in /Users/abassadamo/opt/anaconda3/lib/python3.8/site-packages (from trio~=0.17->selenium) (1.10)\n",
      "Requirement already satisfied: exceptiongroup>=1.0.0rc9 in /Users/abassadamo/opt/anaconda3/lib/python3.8/site-packages (from trio~=0.17->selenium) (1.0.0rc9)\n",
      "Requirement already satisfied: attrs>=19.2.0 in /Users/abassadamo/opt/anaconda3/lib/python3.8/site-packages (from trio~=0.17->selenium) (20.3.0)\n",
      "Requirement already satisfied: sortedcontainers in /Users/abassadamo/opt/anaconda3/lib/python3.8/site-packages (from trio~=0.17->selenium) (2.3.0)\n",
      "Requirement already satisfied: sniffio in /Users/abassadamo/opt/anaconda3/lib/python3.8/site-packages (from trio~=0.17->selenium) (1.2.0)\n",
      "Requirement already satisfied: outcome in /Users/abassadamo/opt/anaconda3/lib/python3.8/site-packages (from trio~=0.17->selenium) (1.2.0)\n",
      "Requirement already satisfied: idna in /Users/abassadamo/opt/anaconda3/lib/python3.8/site-packages (from trio~=0.17->selenium) (2.10)\n",
      "Requirement already satisfied: wsproto>=0.14 in /Users/abassadamo/opt/anaconda3/lib/python3.8/site-packages (from trio-websocket~=0.9->selenium) (1.2.0)\n",
      "Requirement already satisfied: PySocks!=1.5.7,<2.0,>=1.5.6 in /Users/abassadamo/opt/anaconda3/lib/python3.8/site-packages (from urllib3[socks]~=1.26->selenium) (1.7.1)\n",
      "Requirement already satisfied: h11<1,>=0.9.0 in /Users/abassadamo/opt/anaconda3/lib/python3.8/site-packages (from wsproto>=0.14->trio-websocket~=0.9->selenium) (0.14.0)\n",
      "\u001b[31mERROR: Could not find a version that satisfies the requirement time\u001b[0m\n",
      "\u001b[31mERROR: No matching distribution found for time\u001b[0m\n",
      "Requirement already satisfied: webdriver-manager in /Users/abassadamo/opt/anaconda3/lib/python3.8/site-packages (3.8.3)\n",
      "Requirement already satisfied: tqdm in /Users/abassadamo/opt/anaconda3/lib/python3.8/site-packages (from webdriver-manager) (4.59.0)\n",
      "Requirement already satisfied: python-dotenv in /Users/abassadamo/opt/anaconda3/lib/python3.8/site-packages (from webdriver-manager) (0.21.0)\n",
      "Requirement already satisfied: requests in /Users/abassadamo/opt/anaconda3/lib/python3.8/site-packages (from webdriver-manager) (2.25.1)\n",
      "Requirement already satisfied: chardet<5,>=3.0.2 in /Users/abassadamo/opt/anaconda3/lib/python3.8/site-packages (from requests->webdriver-manager) (4.0.0)\n",
      "Requirement already satisfied: urllib3<1.27,>=1.21.1 in /Users/abassadamo/opt/anaconda3/lib/python3.8/site-packages (from requests->webdriver-manager) (1.26.4)\n",
      "Requirement already satisfied: idna<3,>=2.5 in /Users/abassadamo/opt/anaconda3/lib/python3.8/site-packages (from requests->webdriver-manager) (2.10)\n",
      "Requirement already satisfied: certifi>=2017.4.17 in /Users/abassadamo/opt/anaconda3/lib/python3.8/site-packages (from requests->webdriver-manager) (2022.9.24)\n",
      "Requirement already satisfied: xlsxwriter in /Users/abassadamo/opt/anaconda3/lib/python3.8/site-packages (1.3.8)\n"
     ]
    }
   ],
   "source": [
    "!pip install selenium\n",
    "!pip install time\n",
    "!pip install webdriver-manager\n",
    "!pip install xlsxwriter "
   ]
  },
  {
   "cell_type": "code",
   "execution_count": 34,
   "id": "cfcbefbd",
   "metadata": {},
   "outputs": [],
   "source": [
    "from selenium import webdriver\n",
    "import time\n",
    "from selenium.common.exceptions import StaleElementReferenceException\n",
    "from webdriver_manager.chrome import ChromeDriverManager\n",
    "from selenium.webdriver.common.by import By\n",
    "import xlsxwriter"
   ]
  },
  {
   "cell_type": "code",
   "execution_count": 46,
   "id": "b7bb5a5f",
   "metadata": {},
   "outputs": [
    {
     "name": "stderr",
     "output_type": "stream",
     "text": [
      "<ipython-input-46-3212a7443485>:1: DeprecationWarning: executable_path has been deprecated, please pass in a Service object\n",
      "  driver = webdriver.Chrome(ChromeDriverManager().install())\n"
     ]
    },
    {
     "name": "stdout",
     "output_type": "stream",
     "text": [
      "['MENU\\nAPTA\\nLog in\\nSearch\\nSearch\\nJoin / Renew\\nYOUR CAREER YOUR PRACTICE PATIENT CARE ADVOCACY APTA AND YOU', '', '', '', '', 'MENU', '', '', 'APTA', 'Search', '', '', '', '', '', '', '', '', '', '', '', '', '', '', '', '', '', '', '', '', 'Accredited PT & PTA Programs Directory', 'Attention Program Directors:', 'Alabama State University', 'Bishop State Community College', 'Calhoun Community College', 'George C Wallace Community College', 'Jefferson State Community College', 'Jefferson State Community College - (Expansion)', 'Lurleen B Wallace Community College', 'Samford University', 'South University - Montgomery', 'Southern Union State Community College', 'The University of Alabama at Birmingham', 'University of South Alabama', 'Wallace State Community College - Hanceville', 'University of Alaska Anchorage', 'AT Still University of Health Sciences', 'Brookline College', 'Carrington College - Mesa', 'Franklin Pierce University-AZ', 'GateWay Community College', 'GateWay Community College - (Expansion)', 'Midwestern University-AZ', 'Mohave Community College', 'Northern Arizona University', 'Northern Arizona University - (Expansion)', 'Pima Medical Institute - Mesa Campus', 'Pima Medical Institute - Tucson Campus', 'Arkansas State University', 'Arkansas State University', 'Arkansas State University - (Expansion)', 'Arkansas Tech University-Ozark Campus', 'Harding University', 'NorthWest Arkansas Community College', 'NorthWest Arkansas Community College - (Expansion)', 'South Arkansas Community College', 'UA Cossatot', 'University of Arkansas for Medical Sciences', 'University of Central Arkansas', 'American Career College', 'American Career College - (Expansion)', 'Azusa Pacific University', 'California Baptist University', 'California State University, Fresno', 'California State University, Long Beach', 'California State University, Northridge', 'California State University, Sacramento', 'Carrington College - Pleasant Hill', 'Casa Loma College', 'Cerritos College', 'Chapman University', 'College of the Sequoias', 'Community Based Education and Development dba CBD College', 'Concorde Career College - Garden Grove', 'Concorde Career College - North Hollywood', 'Concorde Career College - San Diego', 'Gurnick Academy of Medical Arts', 'Institute of Technology - Clovis Campus', 'Institute of Technology - Redding', 'Loma Linda University', 'Loma Linda University', 'Mendocino College', \"Mount Saint Mary's University\", 'Ohlone College', 'Pima Medical Institute - San Marcos', 'Sacramento City College', 'Samuel Merritt University', 'San Diego Mesa College', 'San Diego State University', 'Stanbridge University', 'Stanbridge University - (Expansion)', 'University of California, San Francisco - San Francisco State University', 'University of Southern California', 'University of Southern California - (Expansion)', 'University of St Augustine for Health Sciences-California', 'University of St Augustine for Health Sciences-California - (Expansion)', 'University of the Pacific', 'West Coast University', 'Western University of Health Sciences-California', 'Arapahoe Community College', 'Arapahoe Community College - (Expansion)', 'Concorde Career College - Aurora', 'Morgan Community College', 'Pima Medical Institute - Denver Campus', 'Pueblo Community College', 'Regis University', 'University of Colorado', 'Naugatuck Valley Community College', 'Norwalk Community College', 'Quinnipiac University', 'Sacred Heart University', 'University of Connecticut', 'University of Hartford', 'Delaware Technical and Community College - George Campus', 'Delaware Technical and Community College - Jack F Owens Campus', 'University of Delaware', 'Howard University', 'The George Washington University', 'AdventHealth University', 'Broward College', 'College of Central Florida', 'Concorde Career Institute - Jacksonville', 'Concorde Career Institute - Miramar', 'Daytona State College', 'Eastern Florida State College', 'Florida Agricultural and Mechanical University', 'Florida Gateway College', 'Florida Gulf Coast University', 'Florida International University', 'Florida National University', 'Florida Southern College', 'Florida State College at Jacksonville', 'Gannon University - Florida', 'Gulf Coast State College', 'Herzing University - Orlando', 'Hodges University', 'Indian River State College', 'Keiser University - Fort Myers', 'Keiser University - Ft Lauderdale', 'Keiser University - Jacksonville', 'Keiser University - Lakeland', 'Keiser University - Melbourne', 'Keiser University - Miami', 'Keiser University - Sarasota', 'Keiser University - West Palm Beach', 'Miami Dade College', 'Nova Southeastern University-Ft Lauderdale', 'Nova Southeastern University-Tampa', 'Pensacola State College', 'Polk State College', 'Rasmussen University - Ocala', 'Rasmussen University ??? Central Pasco', 'SABER College', 'Santa Fe College', 'Seminole State College of Florida', 'South University - Tampa', 'South University - West Palm Beach', 'St Petersburg College', 'State College of Florida', 'Taylor College', 'The Praxis Institute', 'University of Central Florida', 'University of Florida', 'University of Miami', 'University of North Florida', 'University of South Florida', 'University of St Augustine for Health Sciences-Florida', 'University of St Augustine for Health Sciences-Florida - (Expansion 2)', 'University of St Augustine for Health Sciences-Florida - (Expansion)', 'The Robert Gordon University', 'Albany State University', 'Athens Technical College', 'Atlanta Technical College', 'Augusta University', 'Brenau University', 'Central Georgia Technical College', 'Chattahoochee Technical College - North Metro Campus', 'Emory University', 'Georgia Southern University', 'Georgia State University', 'Lanier Technical College', 'Mercer University', 'Philadelphia College of Osteopathic Medicine - Georgia', 'South University - Savannah', 'University of North Georgia', \"Kapi'olani Community College - University of Hawaii\", 'Brigham Young University-Idaho', 'Carrington College - Boise', 'Idaho Consortium for Physical Therapist Assistant Education', 'Idaho State University', 'Idaho State University - College of Technology', 'Black Hawk College', 'Bradley University', 'City Colleges of Chicago - Malcolm X College', 'College of DuPage', 'Elgin Community College', 'Fox College', 'Governors State University', 'Heartland Community College', 'Illinois Central College', 'Kankakee Community College', 'Kaskaskia College', 'Lake Land College', 'McHenry County College', 'Midwestern University-IL', 'Morton College', 'Northern Illinois University', 'Northwestern University', 'Oakton Community College', 'Rosalind Franklin University of Medicine and Science', 'Southern Illinois University', 'Southwestern Illinois College', 'The University of Illinois at Chicago', 'William Rainey Harper College', 'Indiana State University', 'Indiana University', 'Ivy Tech Community College - Sellersburg', 'Ivy Tech Community College Northwest', 'Ivy Tech Community College of Indiana- East Central', 'Trine University - Angola', 'University of Evansville', 'University of Indianapolis', 'University of Indianapolis', 'University of Saint Francis', 'Vincennes University', 'Briar Cliff University', 'Clarke University', 'Des Moines University - Osteopathic Medical Center', 'Hawkeye Community College', 'Indian Hills Community College', 'Kirkwood Community College', 'Mercy College of Health Sciences', 'North Iowa Area Community College', 'St Ambrose University', 'The University of Iowa', 'Western Iowa Tech Community College', 'Colby Community College', 'Hutchinson Community College', 'Kansas City Kansas Community College', 'University of Kansas Medical Center', 'University of Saint Mary', 'Washburn University of Topeka', 'Wichita State University', 'Bellarmine University', 'Hazard Community & Technical College and Southeast Kentucky Community & Technical College', 'Jefferson Community and Technical College', 'Madisonville Community College', 'Somerset Community College', 'University of Kentucky', 'West Kentucky Community and Technical College', 'Western Kentucky University', 'Bossier Parish Community College', 'Delgado Community College', 'Franciscan Missionaries of Our Lady University', 'Franciscan Missionaries of Our Lady University', 'Louisiana College', 'Louisiana State University Health Sciences Center in New Orleans', 'Louisiana State University Health Sciences Center in Shreveport', 'Husson University', 'Kennebec Valley Community College', 'University of Maine at Presque Isle', 'University of New England', 'Allegany College of Maryland', 'Baltimore City Community College', 'Carroll Community College', 'Cecil College', 'Chesapeake Area Consortium for Higher Education', 'Howard Community College', 'Montgomery College - Takoma Park Campus', 'University of Maryland - Baltimore', 'University of Maryland - Eastern Shore', 'Wor-Wic Community College', 'American International College', 'Bay State College', 'Bay State College - (Expansion)', 'Berkshire Community College', 'Boston University', 'MCPHS University', 'MGH Institute of Health Professions', 'Mount Wachusett Community College', 'North Shore Community College', 'Northeastern University', 'Quincy College', 'Simmons University', 'Springfield College', 'Springfield Technical Community College', 'University of Massachusetts Lowell', 'Andrews University', 'Baker College of Auburn Hills', 'Baker College of Muskegon', 'Baker College of Owosso', 'Central Michigan University', 'Central Michigan University - (Expansion)', 'Delta College', 'Finlandia University', 'Grand Valley State University', 'Henry Ford College', 'Kellogg Community College', 'Macomb Community College', 'Macomb Community College - (Expansion)', 'Mid Michigan College', 'Mott Community College', 'Oakland University', 'University of Michigan - Flint', 'Washtenaw Community College', 'Wayne State University', 'Western Michigan University', 'Anoka Ramsey Community College', 'College of St Scholastica', 'Concordia University-Saint Paul', 'Lake Superior College', 'Lake Superior College - (Expansion)', 'Mayo Clinic School of Health Sciences', 'Northland Community and Technical College', 'Rasmussen University - Brooklyn Park - Maple Grove', 'St Catherine University', 'St Catherine University', 'University of Minnesota', 'Hinds Community College', 'Holmes Community College', 'Itawamba Community College', 'Meridian Community College', 'Mississippi Delta Community College', 'Mississippi Gulf Coast Community College', 'Pearl River Community College - Hattiesburg Branch', 'University of Mississippi at the Medical Center', 'William Carey University', 'Central Methodist University', 'Concorde Career College - Kansas City', 'Jefferson College', 'Maryville University of Saint Louis', 'Metropolitan Community College-Penn Valley', 'Metropolitan Community College-Penn Valley - (Expansion)', 'Mineral Area College-Cape Girardeau Career & Technology Center', 'Missouri State University', 'Missouri Western State University', 'Ozarks Technical Community College', 'Rockhurst University', 'Saint Louis University', 'Southwest Baptist University', 'St Louis College of Health Careers-Fenton', 'St Louis Community College at Meramec', 'State Technical College of Missouri', 'University of Missouri', 'Washington University in St Louis', 'Flathead Valley Community College', 'Great Falls College-Montana State University', 'The University of Montana - Missoula', 'Clarkson College', 'Clarkson College - (Expansion)', 'Creighton University', 'Nebraska Methodist College', 'Northeast Community College', 'Southeast Community College', 'University of Nebraska Medical Center', 'Carrington College - Las Vegas', 'College of Southern Nevada', 'Pima Medical Institute - Las Vegas', 'Touro University Nevada', 'University of Nevada, Las Vegas', 'Franklin Pierce University-NH', 'Plymouth State University', 'River Valley Community College', 'Essex County College', 'Kean University', 'Mercer County Community College', 'Rowan College of South Jersey', 'Rutgers, The State University of New Jersey', 'Rutgers, The State University of New Jersey - (Expansion)', 'Seton Hall University', 'Stockton University', 'Union County College', 'Central New Mexico Community College', 'Clovis Community College', 'Pima Medical Institute - Albuquerque Campus', 'San Juan College', 'San Juan College - (Expansion)', 'University of New Mexico', 'Bryant & Stratton College - Southtowns', 'Bryant & Stratton College - Syracuse', 'Clarkson University', 'Columbia University', \"D'Youville University\", 'Daemen University', 'Dominican University New York', 'Genesee Community College', 'Herkimer County Community College', 'Hunter College (CUNY)', 'Ithaca College', 'Kingsborough Community College - The City University of New York', 'LaGuardia Community College', 'Long Island University - Brooklyn Campus', 'Marist College', 'Mercy College', 'Nassau Community College', 'Nazareth College of Rochester', 'New York Institute of Technology', 'New York Medical College', 'New York University', 'Niagara County Community College', 'Onondaga Community College', 'Orange County Community College', 'Russell Sage College', 'State University of New York College of Technology at Canton', 'State University of New York Upstate Medical University', 'Stony Brook University', 'Stony Brook University - (Expansion)', 'Suffolk County Community College', 'SUNY (State University of New York) Downstate Health Sciences University', 'SUNY Broome Community College', 'The College of Staten Island', 'Touro University - (Expansion)', 'Touro University- PT', 'University at Buffalo, State University of New York', 'Utica University', 'Villa Maria College of Buffalo', 'Caldwell Community College and Technical Institute', 'Campbell University', 'Central Piedmont Community College', 'Craven Community College', 'Duke University', 'East Carolina University', 'Elon University', 'Fayetteville Technical Community College', 'Guilford Technical Community College', 'High Point University', 'Martin Community College', 'Methodist University', 'Nash Community College', 'Rowan-Cabarrus Community College', 'South College-Asheville Campus', 'Southwestern Community College', 'Surry Community College', 'The University of North Carolina at Chapel Hill', 'Western Carolina University', 'Wingate University', 'Winston-Salem State University', 'University of Jamestown', 'University of Mary', 'University of North Dakota', 'Bryant & Stratton College - Parma', 'Clark State College', 'Cleveland State University', 'Cuyahoga Community College', 'Edison State Community College', 'Hocking College', 'James A Rhodes State College', 'Kent State University', 'Kent State University - (Expansion 2)', 'Kent State University - (Expansion)', 'Lorain County Community College', 'Marion Technical College', 'Mount St Joseph University', 'North Central State College', 'Ohio University', 'Owens Community College', 'Professional Skills Institute', 'Shawnee State University', 'Sinclair Community College', 'Stark State College', 'Terra State Community College', 'The Ohio State University', 'The University of Findlay', 'The University of Findlay - (Expansion)', 'University of Cincinnati', 'University of Cincinnati Clermont College', 'University of Dayton', 'University of Mount Union', 'University of Toledo', 'Walsh University', 'Youngstown State University', 'Zane State College', 'Carl Albert State College', 'Connors State College - Indian Capital Technology Center', 'Langston University', 'Murray State College', 'Northeastern Oklahoma A&M College', 'Oklahoma City Community College', 'Seminole State College-Gordon Cooper Technology Center', 'Southwestern Oklahoma State University', 'Southwestern Oklahoma State University - (Expansion)', 'Tulsa Community College', 'University of Oklahoma Health Sciences Center', 'George Fox University', 'Lane Community College', 'Lane Community College - (Expansion)', 'Mt Hood Community College', 'Pacific University', 'Alvernia University', 'Arcadia University', 'Arcadia University - (Expansion)', 'Butler County Community College', 'California University of Pennsylvania', 'Central Penn College', 'Central Penn College - (Expansion)', 'Chatham University', 'Community College of Allegheny County - Boyce Campus', 'DeSales University- PT', 'Drexel University', 'Duquesne University', 'Gannon University - Pennsylvania', 'Harcum College', 'Harcum College - (Expansion)', 'Johnson College', 'Lackawanna College', 'Lebanon Valley College', 'Lehigh Carbon Community College', 'Mercyhurst University', 'Messiah University', 'Misericordia University', 'Montgomery County Community College', 'Mount Aloysius College', 'Neumann University', 'Pennsylvania College of Technology', 'Pennsylvania Institute of Technology', 'Saint Francis University', \"Saint Joseph's University\", 'Slippery Rock University of Pennsylvania', 'Temple University', 'The Pennsylvania State University DuBois', 'The Pennsylvania State University Eberly', 'The Pennsylvania State University Hazleton', 'The Pennsylvania State University Mont Alto', 'The Pennsylvania State University Shenango', 'Thomas Jefferson University', 'University of Pittsburgh', 'University of Pittsburgh - (Expansion)', 'University of Scranton', 'Widener University', 'Atenas College', 'Inter American University of Puerto Rico - Ponce', 'NUC University', 'University of Puerto Rico - Medical Sciences Campus', 'University of Puerto Rico at Humacao', 'University of Puerto Rico in Ponce', 'Community College of Rhode Island', 'New England Institute of Technology', 'University of Rhode Island', 'Anderson University', 'Greenville Technical College', 'Greenville Technical College - (Expansion)', 'Horry-Georgetown Technical College', 'Medical University of South Carolina', 'Midlands Technical College', 'Orangeburg-Calhoun Technical College', 'South University - Columbia', 'Technical College of the Lowcountry', 'Trident Technical College', 'University of South Carolina - Columbia', 'Lake Area Technical College', 'University of South Dakota', 'Belmont University', 'Chattanooga State Community College', 'Concorde Career College - Memphis', 'East Tennessee State University', 'Hussian College', 'Jackson State Community College', 'Roane State Community College', 'South College-Knoxville Campus', 'South College-Knoxville Campus', 'South College-Knoxville Campus - (Expansion)', 'Southern Adventist University', 'Southwest Tennessee Community College', 'Tennessee State University', 'The University of Tennessee at Chattanooga', 'The University of Tennessee Health Science Center', 'Volunteer State Community College', 'Walters State Community College', 'Amarillo College', 'Angelo State University', 'Army-Baylor University', 'Austin Community College', 'Baylor University', 'Blinn College', 'Concorde Career College - Dallas', 'Concorde Career College - San Antonio', 'Del Mar College', 'El Paso Community College', 'Hardin-Simmons University', 'Houston Community College System', 'Kilgore College', 'Laredo College', 'Lone Star College - Montgomery', 'McLennan Community College', 'Navarro College', 'Northeast Texas Community College', 'Odessa College', 'Pima Medical Institute - Houston Campus', 'San Jacinto College South', 'South Plains College', 'South Texas College', 'South University - Austin', \"St Philip's College\", 'Tarrant County College', 'Texas State University', 'Texas Tech University Health Sciences Center', \"Texas Woman's University\", \"Texas Woman's University - (Expansion)\", 'The University of Texas at El Paso', 'The University of Texas Health Science Center at San Antonio', 'The University of Texas Medical Branch at Galveston', 'The University of Texas Medical Branch at Galveston - (Expansion 2)', 'The University of Texas Medical Branch at Galveston - (Expansion)', 'The Victoria College', 'Tyler Junior College', 'University of Mary Hardin-Baylor', 'University of North Texas Health Science Center at Fort Worth', 'University of St Augustine for Health Sciences-Austin, Texas', 'University of St Augustine for Health Sciences-Austin, Texas - (Expansion)', 'University of Texas Southwestern Medical Center', 'University of the Incarnate Word', 'Weatherford College', 'Western Technical College-Texas', 'Wharton County Junior College', 'Provo College', 'Rocky Mountain University of Health Professions', 'Salt Lake Community College', 'University of Utah', 'Utah Tech University', 'University of Vermont', 'ECPI University', 'ECPI University - (Expansion)', 'Emory & Henry College', 'Germanna Community College', 'Germanna Community College - (Expansion)', 'Hampton University', 'Mary Baldwin University', 'Marymount University', 'Northern Virginia Community College', 'Old Dominion University', 'Patrick Henry Community College', 'Radford University', 'Radford University', 'Riverside College of Health Careers', 'Shenandoah University', 'Shenandoah University - (Expansion)', 'South University - Richmond', 'South University - Virginia Beach', 'Tidewater Community College', 'University of Lynchburg', 'Virginia Commonwealth University', 'Wytheville Community College', 'Eastern Washington University', 'Green River College', 'Lake Washington Institute of Technology', 'Olympic College', 'Pima Medical Institute - Seattle Campus', 'Spokane Falls Community College', 'University of Puget Sound', 'University of Washington', 'Whatcom Community College', 'Whatcom Community College - (Expansion)', 'Blue Ridge Community and Technical College', 'Marshall University', 'Mountwest Community & Technical College', 'Pierpont Community & Technical College', 'West Virginia University', 'Wheeling University', 'Blackhawk Technical College', 'Bryant & Stratton College - Wauwatosa', 'Carroll University', 'Chippewa Valley Technical College', 'Concordia University Wisconsin', 'Concordia University Wisconsin - (Expansion)', 'Gateway Technical College', 'Herzing University - Brookfield', 'Marquette University', 'Milwaukee Area Technical College', 'Northeast Wisconsin Technical College', 'Northeast Wisconsin Technical College - (Expansion)', 'Southwest Wisconsin Technical College', 'University of Wisconsin-LaCrosse', 'University of Wisconsin-Madison', 'University of Wisconsin-Milwaukee', 'Western Technical College-Wisconsin', 'Laramie County Community College', 'Do you need help?\\nContact Us\\nFacebook\\nTwitter\\nYoutube\\nInstagram\\nLinkedIn\\nRelated APTA Sites\\nAPTA Career Center\\nAPTA Learning Center\\nAPTA Specialist Certification\\nAPTA Store\\nChoosePT.com\\nGuide to Physical Therapist Practice\\nPTJ\\nABPTRFE\\nACAPT\\nCAPTE\\nFoundation for Physical Therapy Research\\nPTPAC\\nPhysical Therapy Outcomes Registry\\n3030 Potomac Ave., Suite 100 | Alexandria, VA | 22305-3085\\n800-999-2782\\nFor Advertisers, Exhibitors, and Sponsors  |  For Media\\nAll contents © 2022 American Physical Therapy Association. All rights reserved.\\nUse of this and other APTA websites constitutes acceptance of our Terms & Conditions.\\nPrivacy Policy  |  Disclaimer\\nAbout APTA  |  Jobs at APTA\\n  Find your chapter or section', 'Do you need help?', 'Facebook', 'Twitter', 'Youtube', 'Instagram', 'LinkedIn', 'Related APTA Sites', '']\n"
     ]
    }
   ],
   "source": [
    "driver = webdriver.Chrome(ChromeDriverManager().install())\n",
    "driver.maximize_window()\n",
    "driver.implicitly_wait(10)\n",
    "driver.get(\"https://aptaapps.apta.org/accreditedschoolsdirectory/AllPrograms.aspx\")\n",
    "workbook = xlsxwriter.Workbook('hello.xlsx')\n",
    "worksheet = workbook.add_worksheet()\n",
    " \n",
    "loadmore = driver.find_element(By.ID,\"load-more\")\n",
    "row = 0\n",
    "\n",
    "try:\n",
    "    while loadmore.is_displayed():\n",
    "        row += 1\n",
    "        loadmore.click()\n",
    "        time.sleep(5)\n",
    "        recipes = driver.find_elements(By.TAG_NAME, \"h3\")\n",
    "        data = [element.text for element in recipes]\n",
    "        print(data)\n",
    "except StaleElementReferenceException:\n",
    "    pass\n",
    "\n",
    "driver.quit()"
   ]
  },
  {
   "cell_type": "code",
   "execution_count": 4,
   "id": "44a4780c",
   "metadata": {},
   "outputs": [
    {
     "name": "stdout",
     "output_type": "stream",
     "text": [
      "0\n",
      "1\n",
      "2\n",
      "3\n"
     ]
    }
   ],
   "source": [
    "import time\n",
    " \n",
    "for i in range(4):\n",
    "     \n",
    "    # using sleep() to halt execution\n",
    "    time.sleep(1)\n",
    "    print(i)"
   ]
  },
  {
   "cell_type": "code",
   "execution_count": null,
   "id": "1afb0a18",
   "metadata": {},
   "outputs": [],
   "source": []
  }
 ],
 "metadata": {
  "kernelspec": {
   "display_name": "Python 3",
   "language": "python",
   "name": "python3"
  },
  "language_info": {
   "codemirror_mode": {
    "name": "ipython",
    "version": 3
   },
   "file_extension": ".py",
   "mimetype": "text/x-python",
   "name": "python",
   "nbconvert_exporter": "python",
   "pygments_lexer": "ipython3",
   "version": "3.8.8"
  }
 },
 "nbformat": 4,
 "nbformat_minor": 5
}
